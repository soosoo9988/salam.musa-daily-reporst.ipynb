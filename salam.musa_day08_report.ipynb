{
 "cells": [
  {
   "cell_type": "code",
   "execution_count": 1,
   "id": "c4fc2248-441e-4854-b731-953566ff1205",
   "metadata": {},
   "outputs": [
    {
     "name": "stdin",
     "output_type": "stream",
     "text": [
      "Enter the first number 5\n",
      "Enter the second number 7\n"
     ]
    },
    {
     "name": "stdout",
     "output_type": "stream",
     "text": [
      " the max number between tow number  5 and 7 is 7\n"
     ]
    }
   ],
   "source": [
    "def find_max():\n",
    "    p= int(input(\"Enter the first number\"))\n",
    "    q= int(input(\"Enter the second number\"))\n",
    "    if p>q:\n",
    "     print(\" the max number between tow number \",p,\"and\" ,q ,\"is\", p)\n",
    "    else:\n",
    "            print(\" the max number between tow number \",p,\"and\" ,q ,\"is\", q)\n",
    "find_max()"
   ]
  },
  {
   "cell_type": "code",
   "execution_count": 2,
   "id": "5b504a4a-497f-4b0e-bf7d-d4b7dad62eca",
   "metadata": {},
   "outputs": [
    {
     "name": "stdin",
     "output_type": "stream",
     "text": [
      "Enter the first number 9\n",
      "Enter the second number 5\n"
     ]
    },
    {
     "name": "stdout",
     "output_type": "stream",
     "text": [
      " the max number between tow number  9 and 5 is 9\n"
     ]
    },
    {
     "name": "stdin",
     "output_type": "stream",
     "text": [
      "Enter the three number 11\n"
     ]
    },
    {
     "name": "stdout",
     "output_type": "stream",
     "text": [
      " the max number between three number  9 and 5 and 11 is 11\n"
     ]
    }
   ],
   "source": [
    "def find_max(p,q):\n",
    "    if p>q:\n",
    "     return p\n",
    "    else:\n",
    "      return q\n",
    "s= int(input(\"Enter the first number\"))\n",
    "a= int(input(\"Enter the second number\"))\n",
    "\n",
    "find_max(s,a)\n",
    "print(\" the max number between tow number \",s,\"and\" ,a ,\"is\", find_max(s,a))\n",
    "\n",
    "def  find_max_of_three(e):\n",
    "   \n",
    "    if r> find_max(s,a):\n",
    "          return r\n",
    "    else:\n",
    "      return find_max(s,a)\n",
    "\n",
    "r= int(input(\"Enter the three number\"))\n",
    "find_max_of_three(r)\n",
    "print(\" the max number between three number \",s,\"and\" ,a ,\"and\",r,\"is\", find_max_of_three(r))    "
   ]
  },
  {
   "cell_type": "code",
   "execution_count": 3,
   "id": "acecccdf-0711-4ff5-87bb-b57871b39251",
   "metadata": {},
   "outputs": [
    {
     "name": "stdout",
     "output_type": "stream",
     "text": [
      "5\n"
     ]
    }
   ],
   "source": [
    "d= \"salam\"\n",
    "sum = 0\n",
    "for n in d:\n",
    " sum +=1\n",
    "print(sum)"
   ]
  },
  {
   "cell_type": "code",
   "execution_count": 4,
   "id": "d8b278f9-fae9-4793-9c73-b198965568ee",
   "metadata": {},
   "outputs": [
    {
     "name": "stdin",
     "output_type": "stream",
     "text": [
      "enter the character t\n"
     ]
    },
    {
     "name": "stdout",
     "output_type": "stream",
     "text": [
      " the character  t is  not vowel\n"
     ]
    }
   ],
   "source": [
    "def vowel (g):\n",
    "    if g in [\"a\",\"e\",\"i\",\"o\",\"u\"]:\n",
    "        print (\" the character \" ,g ,\"is\" , \" vowel\")\n",
    "    else :\n",
    "         print (\" the character \" ,g ,\"is\" , \" not vowel\")\n",
    "         #print(type(g))\n",
    "\n",
    "h= input(\"enter the character\")\n",
    "#while type(h) != \"str\":\n",
    " #   h= input(\"enter the character\")\n",
    "    \n",
    "vowel(h)\n",
    "     "
   ]
  },
  {
   "cell_type": "code",
   "execution_count": 5,
   "id": "f58f4184-c0ac-46fa-8b7b-0d67a93092c4",
   "metadata": {},
   "outputs": [
    {
     "name": "stdout",
     "output_type": "stream",
     "text": [
      "summation of is list is  [1, 3, 9, 8] 21\n",
      " porduct element of is lis is  [1, 3, 9, 8] 216\n"
     ]
    }
   ],
   "source": [
    "def sum_elements(f):\n",
    "    su = 0 \n",
    "    for i in f:\n",
    "        su = su +i \n",
    "    return su\n",
    "\n",
    "def product_elements(r):\n",
    "    prod = 1 \n",
    "    for r in r :\n",
    "      prod= prod * r \n",
    "    return prod\n",
    "d = [1,3,9,8]\n",
    "sum_elements(d)\n",
    "print (\"summation of is list is \" ,d,sum_elements(d))\n",
    "\n",
    "print (\" porduct element of is lis is \" ,d,product_elements(d))\n"
   ]
  },
  {
   "cell_type": "code",
   "execution_count": 6,
   "id": "4f0ad1de-74ff-44e8-bd73-5cfc85860168",
   "metadata": {},
   "outputs": [
    {
     "name": "stdin",
     "output_type": "stream",
     "text": [
      "enter the string soso\n"
     ]
    },
    {
     "data": {
      "text/plain": [
       "'osos'"
      ]
     },
     "execution_count": 6,
     "metadata": {},
     "output_type": "execute_result"
    }
   ],
   "source": [
    "def reverse_string (l):\n",
    "    c=l[::-1]\n",
    "    return c\n",
    "d = input(\"enter the string\")\n",
    "reverse_string (d)"
   ]
  },
  {
   "cell_type": "code",
   "execution_count": 7,
   "id": "6629ab23-54e5-413b-8102-7ad192b8ead2",
   "metadata": {},
   "outputs": [
    {
     "name": "stdin",
     "output_type": "stream",
     "text": [
      "enter any string doaa\n"
     ]
    },
    {
     "name": "stdout",
     "output_type": "stream",
     "text": [
      "no no\n"
     ]
    }
   ],
   "source": [
    "def check_palindrome():\n",
    "  i= input(\"enter any string\")\n",
    "  y=reverse_string(d)\n",
    "  if i==y:\n",
    "    print(\"this is a pla\")\n",
    "  else :\n",
    "    print(\"no no\")\n",
    "check_palindrome()\n"
   ]
  },
  {
   "cell_type": "code",
   "execution_count": null,
   "id": "51271faa-bb4c-4ec1-ac87-462127f2052e",
   "metadata": {},
   "outputs": [],
   "source": [
    "def check_membership(h):\n",
    "    s= [\"salam\",\"alaa\",\"doaa\",\"magbal\"]\n",
    "    if h in s :\n",
    "        print(\"the value within list\")\n",
    "    else :\n",
    "        print(\"rhe value is not within list\")\n",
    "h+       \n",
    "check_membership(h)"
   ]
  }
 ],
 "metadata": {
  "kernelspec": {
   "display_name": "Python 3 (ipykernel)",
   "language": "python",
   "name": "python3"
  },
  "language_info": {
   "codemirror_mode": {
    "name": "ipython",
    "version": 3
   },
   "file_extension": ".py",
   "mimetype": "text/x-python",
   "name": "python",
   "nbconvert_exporter": "python",
   "pygments_lexer": "ipython3",
   "version": "3.9.2"
  }
 },
 "nbformat": 4,
 "nbformat_minor": 5
}
