{
 "cells": [
  {
   "cell_type": "code",
   "execution_count": 48,
   "id": "understood-sugar",
   "metadata": {},
   "outputs": [
    {
     "name": "stdout",
     "output_type": "stream",
     "text": [
      "enter the number5\n",
      "1\n",
      "3\n",
      "the summation 10\n"
     ]
    }
   ],
   "source": [
    "s = int(input(\"enter the number\"))\n",
    "su = 0\n",
    "for i in range(s):\n",
    "    if i%2 != 0:\n",
    "        su += (i+3)\n",
    "        print(i)\n",
    "print('the summation {}'.format(su))\n",
    "        \n",
    "        \n",
    " \n",
    "    "
   ]
  },
  {
   "cell_type": "code",
   "execution_count": 33,
   "id": "technological-noise",
   "metadata": {},
   "outputs": [
    {
     "name": "stdout",
     "output_type": "stream",
     "text": [
      "enter the number5\n",
      "0\n",
      "2\n",
      "4\n",
      "the summation 105\n"
     ]
    }
   ],
   "source": [
    "s = int(input(\"enter the number\"))\n",
    "su = 1\n",
    "for i in range(s):\n",
    "    if i%2 == 0:\n",
    "        su *= (i+3)\n",
    "        print(i)\n",
    "print('the summation {}'.format(su))\n",
    "        \n",
    "        \n",
    " \n",
    "    "
   ]
  },
  {
   "cell_type": "code",
   "execution_count": 45,
   "id": "sealed-plane",
   "metadata": {},
   "outputs": [
    {
     "name": "stdout",
     "output_type": "stream",
     "text": [
      "enter the number4\n",
      "the day is friday\n"
     ]
    }
   ],
   "source": [
    "#print(\"Enter the number between 0-6\") \n",
    "d = int(input('enter the number'))\n",
    "if d == 0:\n",
    "     print('the day is monday')\n",
    "elif d==1:\n",
    "     print ('the day Tuesday')\n",
    "elif d== 2:\n",
    "        print ('the day is wednesday')\n",
    "elif d== 3:\n",
    "        print ('the day is thursday')\n",
    "elif d==4:\n",
    "        print('the day is friday')\n",
    "else:\n",
    "    print ('weekend')\n",
    "    "
   ]
  },
  {
   "cell_type": "code",
   "execution_count": 51,
   "id": "intelligent-logic",
   "metadata": {
    "scrolled": true
   },
   "outputs": [
    {
     "name": "stdout",
     "output_type": "stream",
     "text": [
      "enter the number between 0-112\n",
      "the monthe is 28\n"
     ]
    }
   ],
   "source": [
    "s= int(input('enter the number between 0-11'))\n",
    "if (s== 1 or s==3 or s==5 or s==7 or s== 8 or s== 10 or s==12):\n",
    "    print(\"the monthe is 31\")\n",
    "elif(s==4 or s==6 or s==9 or s==11):\n",
    "    print(\"the monthe is 30\")\n",
    "else:\n",
    "   print(\"the monthe is 28\")"
   ]
  },
  {
   "cell_type": "code",
   "execution_count": 53,
   "id": "conceptual-liquid",
   "metadata": {},
   "outputs": [
    {
     "name": "stdout",
     "output_type": "stream",
     "text": [
      "my name is salam\n",
      "my name is salam\n",
      "my name is salam\n"
     ]
    }
   ],
   "source": [
    "for i in range(3):\n",
    " print('my name is salam')\n",
    "    "
   ]
  },
  {
   "cell_type": "code",
   "execution_count": 66,
   "id": "desperate-jordan",
   "metadata": {},
   "outputs": [
    {
     "name": "stdout",
     "output_type": "stream",
     "text": [
      "my name is salam\n",
      "my name is salam\n",
      "my name is salam\n"
     ]
    }
   ],
   "source": [
    "n = 0\n",
    "while (n < 3):\n",
    "    print('my name is salam')\n",
    "    n = n+1"
   ]
  },
  {
   "cell_type": "code",
   "execution_count": 70,
   "id": "opposite-strengthening",
   "metadata": {},
   "outputs": [
    {
     "name": "stdout",
     "output_type": "stream",
     "text": [
      "enter the frist number1\n",
      "enter the second number2\n",
      "the sumation of number fib := 3\n",
      "the sumation of number fib := 5\n",
      "the sumation of number fib := 8\n",
      "the sumation of number fib := 13\n",
      "the sumation of number fib := 21\n",
      "the sumation of number fib := 34\n",
      "the sumation of number fib := 55\n",
      "the sumation of number fib := 89\n",
      "the sumation of number fib := 144\n",
      "the sumation of number fib := 233\n",
      "the sumation of number fib := 377\n",
      "the sumation of number fib := 610\n",
      "the sumation of number fib := 987\n",
      "the sumation of number fib := 1597\n",
      "the sumation of number fib := 2584\n"
     ]
    }
   ],
   "source": [
    "sum1= int(input('enter the frist number'))\n",
    "sum2= int(input('enter the second number'))\n",
    "for i in range(15):\n",
    "    summ = sum1+sum2\n",
    "    print ('the sumation of number fib := {}'.format(summ))\n",
    "    sum1=sum2\n",
    "    sum2=summ\n",
    "    \n",
    "    "
   ]
  },
  {
   "cell_type": "code",
   "execution_count": 75,
   "id": "beginning-japanese",
   "metadata": {},
   "outputs": [
    {
     "name": "stdout",
     "output_type": "stream",
     "text": [
      "enter the frist number3\n",
      "enter the second number2\n",
      "the summation of is sequence is := 0.16666666666666663\n",
      "the summation of is sequence is := 0.16666666666666663\n",
      "the summation of is sequence is := 0.16666666666666663\n",
      "the summation of is sequence is := 0.16666666666666663\n",
      "the summation of is sequence is := 0.16666666666666663\n",
      "the summation of is sequence is := 0.16666666666666663\n",
      "the summation of is sequence is := 0.16666666666666663\n",
      "the summation of is sequence is := 0.16666666666666663\n",
      "the summation of is sequence is := 0.16666666666666663\n",
      "the summation of is sequence is := 0.16666666666666663\n",
      "the summation of is sequence is := 0.16666666666666663\n",
      "the summation of is sequence is := 0.16666666666666663\n",
      "the summation of is sequence is := 0.16666666666666663\n",
      "the summation of is sequence is := 0.16666666666666663\n",
      "the summation of is sequence is := 0.16666666666666663\n",
      "the summation of is sequence is := 0.16666666666666663\n",
      "the summation of is sequence is := 0.16666666666666663\n",
      "the summation of is sequence is := 0.16666666666666663\n",
      "the summation of is sequence is := 0.16666666666666663\n",
      "the summation of is sequence is := 0.16666666666666663\n",
      "the summation of is sequence is := 0.16666666666666663\n",
      "the summation of is sequence is := 0.16666666666666663\n",
      "the summation of is sequence is := 0.16666666666666663\n",
      "the summation of is sequence is := 0.16666666666666663\n",
      "the summation of is sequence is := 0.16666666666666663\n",
      "the summation of is sequence is := 0.16666666666666663\n",
      "the summation of is sequence is := 0.16666666666666663\n",
      "the summation of is sequence is := 0.16666666666666663\n",
      "the summation of is sequence is := 0.16666666666666663\n",
      "the summation of is sequence is := 0.16666666666666663\n"
     ]
    }
   ],
   "source": [
    "x1= int(input('enter the frist number'))\n",
    "x2= int(input('enter the second number'))\n",
    "for i in range(30):\n",
    "    x=(1/3)*x2 -(1/6)*x1 \n",
    "    print('the summation of is sequence is := {}'.format(x))"
   ]
  },
  {
   "cell_type": "code",
   "execution_count": 72,
   "id": "atlantic-kenya",
   "metadata": {},
   "outputs": [
    {
     "name": "stdout",
     "output_type": "stream",
     "text": [
      "enter the year2009\n",
      "the year is not year\n"
     ]
    }
   ],
   "source": [
    "f= int(input('enter the year'))\n",
    "if f%4==0 :\n",
    "    print('the leap year')\n",
    "else:\n",
    "    print('the year is not year')"
   ]
  },
  {
   "cell_type": "code",
   "execution_count": 114,
   "id": "owned-proportion",
   "metadata": {},
   "outputs": [
    {
     "name": "stdout",
     "output_type": "stream",
     "text": [
      "enter the number 5\n",
      "the smallest square natural number:=0\n",
      "the smallest square natural number:=1\n",
      "the smallest square natural number:=2\n"
     ]
    }
   ],
   "source": [
    "M=int(input('enter the number '))\n",
    "su=0\n",
    "for i in range(M):\n",
    " if su < M:\n",
    "     su = (i*i)+su\n",
    "     print ('the smallest square natural number:={}'.format(i))\n",
    "  "
   ]
  },
  {
   "cell_type": "code",
   "execution_count": 120,
   "id": "auburn-cancer",
   "metadata": {},
   "outputs": [
    {
     "name": "stdout",
     "output_type": "stream",
     "text": [
      "enter the number 5\n",
      "the smallest square natural number:=0\n",
      "the smallest square natural number:=1\n",
      "the smallest square natural number:=2\n"
     ]
    }
   ],
   "source": [
    "M = int(input('enter the number '))\n",
    "su=0\n",
    "n=0\n",
    "while (su < M):\n",
    "    su = (n*n)+su\n",
    "    print ('the smallest square natural number:={}'.format(n))\n",
    "    n = n + 1"
   ]
  },
  {
   "cell_type": "code",
   "execution_count": 135,
   "id": "directed-helicopter",
   "metadata": {},
   "outputs": [
    {
     "name": "stdout",
     "output_type": "stream",
     "text": [
      "enter the number6\n",
      "the divisors is this number is :=[1, 2, 3, 6]\n"
     ]
    }
   ],
   "source": [
    "import math \n",
    "div =int(input('enter the number'))\n",
    "s=[]\n",
    "for i in range(1,div+1):\n",
    "    if div%i == 0:\n",
    "     s.append(i)\n",
    "print('the divisors is this number is :={}'.format(s))\n"
   ]
  },
  {
   "cell_type": "code",
   "execution_count": 173,
   "id": "supreme-representation",
   "metadata": {},
   "outputs": [
    {
     "ename": "IndentationError",
     "evalue": "unexpected indent (<ipython-input-173-02ef4168918e>, line 8)",
     "output_type": "error",
     "traceback": [
      "\u001b[0;36m  File \u001b[0;32m\"<ipython-input-173-02ef4168918e>\"\u001b[0;36m, line \u001b[0;32m8\u001b[0m\n\u001b[0;31m    div//2 = i\u001b[0m\n\u001b[0m    ^\u001b[0m\n\u001b[0;31mIndentationError\u001b[0m\u001b[0;31m:\u001b[0m unexpected indent\n"
     ]
    }
   ],
   "source": [
    "import math \n",
    "div =int(input('enter the number'))\n",
    "s=[]\n",
    "for i in range(div):\n",
    "    \n",
    "    if (div%i == 0):\n",
    "     s.append(i)\n",
    "      div//2 = i\n",
    "       print('the divisors is this number is :={}'.format(s))"
   ]
  },
  {
   "cell_type": "code",
   "execution_count": 161,
   "id": "professional-albania",
   "metadata": {},
   "outputs": [
    {
     "name": "stdout",
     "output_type": "stream",
     "text": [
      "enter the number between 0-95\n",
      "enter anther nuture number 4\n",
      "the multiplication of to number is 5*0 :=0\n",
      "the multiplication of to number is 5*1 :=5\n",
      "the multiplication of to number is 5*2 :=10\n",
      "the multiplication of to number is 5*3 :=15\n"
     ]
    }
   ],
   "source": [
    "C= int(input('enter the number between 0-9'))\n",
    "f= int(input('enter anther nuture number '))\n",
    "for i in range(f): \n",
    "    d=C*i\n",
    "    print('the multiplication of to number is {}*{} :={}'.format(C,i,d))\n"
   ]
  },
  {
   "cell_type": "code",
   "execution_count": 166,
   "id": "floppy-trash",
   "metadata": {
    "scrolled": true
   },
   "outputs": [
    {
     "name": "stdout",
     "output_type": "stream",
     "text": [
      "0\n",
      "3\n",
      "6\n",
      "7\n",
      "9\n",
      "11\n",
      "12\n",
      "14\n",
      "15\n",
      "18\n",
      "21\n",
      "22\n",
      "24\n",
      "27\n",
      "28\n",
      "30\n",
      "33\n",
      "35\n",
      "36\n",
      "39\n"
     ]
    }
   ],
   "source": [
    "for i in range(40):\n",
    " if (i% 7==0 or i% 3==0 or i% 11==0):\n",
    "    print (i)"
   ]
  },
  {
   "cell_type": "code",
   "execution_count": null,
   "id": "legislative-marriage",
   "metadata": {},
   "outputs": [],
   "source": [
    "x = float(input(\"Enter a float value: \"))\n",
    "\n",
    " \n",
    "if x >= 0:\n",
    "     \n",
    "    floor_x = int(x)\n",
    "    if x != floor_x:  \n",
    "        floor_x = floor_x  \n",
    "else:\n",
    "      \n",
    "    floor_x = int(x)   \n",
    "    if x != floor_x:   \n",
    "        floor_x -= 1   \n",
    "\n",
    " \n",
    "print(f\"The floor of {x} is: {floor_x}\")\n"
   ]
  },
  {
   "cell_type": "code",
   "execution_count": 180,
   "id": "still-antigua",
   "metadata": {},
   "outputs": [
    {
     "name": "stdout",
     "output_type": "stream",
     "text": [
      "enter the frist point3\n",
      "enter the secont point-6\n",
      "is point is located in 4th\n"
     ]
    }
   ],
   "source": [
    "f= int(input('enter the frist point'))\n",
    "b= int(input('enter the secont point'))\n",
    "v=[f,b]\n",
    "if (v[0]==0 and v[1]==0):\n",
    " print ('this is point is origin.')\n",
    "elif(v[0]>0 and v[1]>0):\n",
    "    print ('is point is located in 1st')\n",
    "elif(v[0]<0 and v[1]<0):\n",
    "    print ('is point is located in 3d')\n",
    "elif (v[0]>0 and v[1]<0):\n",
    "    print ('is point is located in 4th')\n",
    "else :\n",
    "    print ('is point is located in 2nd')"
   ]
  },
  {
   "cell_type": "code",
   "execution_count": 195,
   "id": "intimate-brake",
   "metadata": {},
   "outputs": [
    {
     "name": "stdout",
     "output_type": "stream",
     "text": [
      "enter integer number between 0-97\n",
      "enter second integer number between 0 and 25589\n",
      "0\n",
      "7\n",
      "14\n",
      "21\n",
      "28\n",
      "35\n",
      "42\n",
      "49\n",
      "56\n",
      "63\n",
      "70\n",
      "77\n",
      "84\n",
      "Do you want to continue?(yes/no)yes\n",
      "enter integer number between 0-989\n",
      "enter integer number between 0-98\n",
      "enter second integer number between 0 and 255243\n",
      "0\n",
      "8\n",
      "16\n",
      "24\n",
      "32\n",
      "40\n",
      "48\n",
      "56\n",
      "64\n",
      "72\n",
      "80\n",
      "88\n",
      "96\n",
      "104\n",
      "112\n",
      "120\n",
      "128\n",
      "136\n",
      "144\n",
      "152\n",
      "160\n",
      "168\n",
      "176\n",
      "184\n",
      "192\n",
      "200\n",
      "208\n",
      "216\n",
      "224\n",
      "232\n",
      "240\n",
      "Do you want to continue?(yes/no)no\n"
     ]
    }
   ],
   "source": [
    "while True:\n",
    "    f= int(input('enter integer number between 0-9'))\n",
    "    while (f < 0 or f > 9):\n",
    "        f= int(input('enter integer number between 0-9'))\n",
    "    m= int(input('enter second integer number between 0 and 255'))\n",
    "    while (m < 0 or m > 255):\n",
    "        m= int(input('enter second integer number between 0 and 255'))\n",
    "    for i in range (m+1):\n",
    "         if i% f  == 0 :\n",
    "                print(i)\n",
    "    cn = input('Do you want to continue?(yes/no)')\n",
    "    if cn == \"no\":\n",
    "        break\n",
    "            "
   ]
  },
  {
   "cell_type": "code",
   "execution_count": 188,
   "id": "standing-overall",
   "metadata": {},
   "outputs": [
    {
     "name": "stdout",
     "output_type": "stream",
     "text": [
      "0\n",
      "1\n",
      "2\n",
      "3\n",
      "4\n",
      "5\n",
      "6\n",
      "7\n",
      "8\n",
      "9\n"
     ]
    }
   ],
   "source": [
    "for i in range(10):\n",
    "    print(i)"
   ]
  }
 ],
 "metadata": {
  "kernelspec": {
   "display_name": "Python 3",
   "language": "python",
   "name": "python3"
  },
  "language_info": {
   "codemirror_mode": {
    "name": "ipython",
    "version": 3
   },
   "file_extension": ".py",
   "mimetype": "text/x-python",
   "name": "python",
   "nbconvert_exporter": "python",
   "pygments_lexer": "ipython3",
   "version": "3.9.2"
  }
 },
 "nbformat": 4,
 "nbformat_minor": 5
}
