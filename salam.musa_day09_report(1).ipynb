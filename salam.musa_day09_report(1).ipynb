{
 "cells": [
  {
   "cell_type": "code",
   "execution_count": 1,
   "id": "c4fc2248-441e-4854-b731-953566ff1205",
   "metadata": {},
   "outputs": [
    {
     "name": "stdin",
     "output_type": "stream",
     "text": [
      "Enter the first number 5\n",
      "Enter the second number 7\n"
     ]
    },
    {
     "name": "stdout",
     "output_type": "stream",
     "text": [
      " the max number between tow number  5 and 7 is 7\n"
     ]
    }
   ],
   "source": [
    "def find_max():\n",
    "    p= int(input(\"Enter the first number\"))\n",
    "    q= int(input(\"Enter the second number\"))\n",
    "    if p>q:\n",
    "     print(\" the max number between tow number \",p,\"and\" ,q ,\"is\", p)\n",
    "    else:\n",
    "            print(\" the max number between tow number \",p,\"and\" ,q ,\"is\", q)\n",
    "find_max()"
   ]
  },
  {
   "cell_type": "code",
   "execution_count": 2,
   "id": "5b504a4a-497f-4b0e-bf7d-d4b7dad62eca",
   "metadata": {},
   "outputs": [
    {
     "name": "stdin",
     "output_type": "stream",
     "text": [
      "Enter the first number 9\n",
      "Enter the second number 5\n"
     ]
    },
    {
     "name": "stdout",
     "output_type": "stream",
     "text": [
      " the max number between tow number  9 and 5 is 9\n"
     ]
    },
    {
     "name": "stdin",
     "output_type": "stream",
     "text": [
      "Enter the three number 11\n"
     ]
    },
    {
     "name": "stdout",
     "output_type": "stream",
     "text": [
      " the max number between three number  9 and 5 and 11 is 11\n"
     ]
    }
   ],
   "source": [
    "def find_max(p,q):\n",
    "    if p>q:\n",
    "     return p\n",
    "    else:\n",
    "      return q\n",
    "s= int(input(\"Enter the first number\"))\n",
    "a= int(input(\"Enter the second number\"))\n",
    "\n",
    "find_max(s,a)\n",
    "print(\" the max number between tow number \",s,\"and\" ,a ,\"is\", find_max(s,a))\n",
    "\n",
    "def  find_max_of_three(e):\n",
    "   \n",
    "    if r> find_max(s,a):\n",
    "          return r\n",
    "    else:\n",
    "      return find_max(s,a)\n",
    "\n",
    "r= int(input(\"Enter the three number\"))\n",
    "find_max_of_three(r)\n",
    "print(\" the max number between three number \",s,\"and\" ,a ,\"and\",r,\"is\", find_max_of_three(r))    "
   ]
  },
  {
   "cell_type": "code",
   "execution_count": 3,
   "id": "acecccdf-0711-4ff5-87bb-b57871b39251",
   "metadata": {},
   "outputs": [
    {
     "name": "stdout",
     "output_type": "stream",
     "text": [
      "5\n"
     ]
    }
   ],
   "source": [
    "d= \"salam\"\n",
    "sum = 0\n",
    "for n in d:\n",
    " sum +=1\n",
    "print(sum)"
   ]
  },
  {
   "cell_type": "code",
   "execution_count": 4,
   "id": "d8b278f9-fae9-4793-9c73-b198965568ee",
   "metadata": {},
   "outputs": [
    {
     "name": "stdin",
     "output_type": "stream",
     "text": [
      "enter the character t\n"
     ]
    },
    {
     "name": "stdout",
     "output_type": "stream",
     "text": [
      " the character  t is  not vowel\n"
     ]
    }
   ],
   "source": [
    "def vowel (g):\n",
    "    if g in [\"a\",\"e\",\"i\",\"o\",\"u\"]:\n",
    "        print (\" the character \" ,g ,\"is\" , \" vowel\")\n",
    "    else :\n",
    "         print (\" the character \" ,g ,\"is\" , \" not vowel\")\n",
    "         #print(type(g))\n",
    "\n",
    "h= input(\"enter the character\")\n",
    "#while type(h) != \"str\":\n",
    " #   h= input(\"enter the character\")\n",
    "    \n",
    "vowel(h)\n",
    "     "
   ]
  },
  {
   "cell_type": "code",
   "execution_count": 5,
   "id": "f58f4184-c0ac-46fa-8b7b-0d67a93092c4",
   "metadata": {},
   "outputs": [
    {
     "name": "stdout",
     "output_type": "stream",
     "text": [
      "summation of is list is  [1, 3, 9, 8] 21\n",
      " porduct element of is lis is  [1, 3, 9, 8] 216\n"
     ]
    }
   ],
   "source": [
    "def sum_elements(f):\n",
    "    su = 0 \n",
    "    for i in f:\n",
    "        su = su +i \n",
    "    return su\n",
    "\n",
    "def product_elements(r):\n",
    "    prod = 1 \n",
    "    for r in r :\n",
    "      prod= prod * r \n",
    "    return prod\n",
    "d = [1,3,9,8]\n",
    "sum_elements(d)\n",
    "print (\"summation of is list is \" ,d,sum_elements(d))\n",
    "\n",
    "print (\" porduct element of is lis is \" ,d,product_elements(d))\n"
   ]
  },
  {
   "cell_type": "code",
   "execution_count": 6,
   "id": "4f0ad1de-74ff-44e8-bd73-5cfc85860168",
   "metadata": {},
   "outputs": [
    {
     "name": "stdin",
     "output_type": "stream",
     "text": [
      "enter the string soso\n"
     ]
    },
    {
     "data": {
      "text/plain": [
       "'osos'"
      ]
     },
     "execution_count": 6,
     "metadata": {},
     "output_type": "execute_result"
    }
   ],
   "source": [
    "def reverse_string (l):\n",
    "    c=l[::-1]\n",
    "    return c\n",
    "d = input(\"enter the string\")\n",
    "reverse_string (d)"
   ]
  },
  {
   "cell_type": "code",
   "execution_count": 7,
   "id": "6629ab23-54e5-413b-8102-7ad192b8ead2",
   "metadata": {},
   "outputs": [
    {
     "name": "stdin",
     "output_type": "stream",
     "text": [
      "enter any string doaa\n"
     ]
    },
    {
     "name": "stdout",
     "output_type": "stream",
     "text": [
      "no no\n"
     ]
    }
   ],
   "source": [
    "def check_palindrome():\n",
    "  i= input(\"enter any string\")\n",
    "  y=reverse_string(d)\n",
    "  if i==y:\n",
    "    print(\"this is a pla\")\n",
    "  else :\n",
    "    print(\"no no\")\n",
    "check_palindrome()\n"
   ]
  },
  {
   "cell_type": "code",
   "execution_count": 3,
   "id": "51271faa-bb4c-4ec1-ac87-462127f2052e",
   "metadata": {},
   "outputs": [
    {
     "name": "stdin",
     "output_type": "stream",
     "text": [
      "enter the value ssss\n"
     ]
    },
    {
     "name": "stdout",
     "output_type": "stream",
     "text": [
      "rhe value is not within list\n"
     ]
    }
   ],
   "source": [
    "def check_membership(h):\n",
    "    s= [\"salam\",\"alaa\",\"doaa\",\"magbal\"]\n",
    "    if h in s :\n",
    "        print(\"the value within list\")\n",
    "    else :\n",
    "        print(\"rhe value is not within list\")\n",
    "h=input(\"enter the value\")      \n",
    "check_membership(h)"
   ]
  },
  {
   "cell_type": "code",
   "execution_count": 11,
   "id": "a467a418-92cc-4e50-9f85-213ba7fe7142",
   "metadata": {},
   "outputs": [
    {
     "name": "stdout",
     "output_type": "stream",
     "text": [
      "{'2', '4'}\n"
     ]
    }
   ],
   "source": [
    "def check_membership(list1,list2):\n",
    "    print(list1 & list2)\n",
    "l= set(\"1224\")\n",
    "h= set(\"acb24\")\n",
    "check_membership(l,h)"
   ]
  },
  {
   "cell_type": "code",
   "execution_count": 16,
   "id": "5a0ff9f7-f0b2-4fec-ad5e-57121827b8ed",
   "metadata": {},
   "outputs": [
    {
     "data": {
      "text/plain": [
       "7"
      ]
     },
     "execution_count": 16,
     "metadata": {},
     "output_type": "execute_result"
    }
   ],
   "source": [
    "def find_max_in_list():\n",
    "    list1=[2,4,6,7]\n",
    "    a= sorted(list1)\n",
    "    return a[-1]\n",
    "    print(a[-1])\n",
    "find_max_in_list()\n",
    "#print (\"the max number in this list is :\",find_max_in_list())\n",
    "    "
   ]
  },
  {
   "cell_type": "code",
   "execution_count": 29,
   "id": "7fb3f1b0-7cdc-448f-b158-a1878ab3edf5",
   "metadata": {},
   "outputs": [
    {
     "name": "stdout",
     "output_type": "stream",
     "text": [
      "salam The lenght of is value is  5\n",
      "aims The lenght of is value is  4\n",
      "2 The lenght of is value is  1\n",
      "5 The lenght of is value is  1\n",
      "sudan The lenght of is value is  5\n",
      "khartoum The lenght of is value is  8\n"
     ]
    }
   ],
   "source": [
    "def map_word():\n",
    "    l=[\"salam\",\"aims\",\"2\",\"5\",\"sudan\",\"khartoum\"]\n",
    "    for i in l :\n",
    "        #print(len(i))\n",
    "        print(i,\"The lenght of is value is \",len(i))\n",
    "        \n",
    "map_word()"
   ]
  },
  {
   "cell_type": "code",
   "execution_count": 56,
   "id": "23a9d9f1-f023-4d5c-b4ef-128aa098dfc3",
   "metadata": {},
   "outputs": [
    {
     "data": {
      "text/plain": [
       "8"
      ]
     },
     "execution_count": 56,
     "metadata": {},
     "output_type": "execute_result"
    }
   ],
   "source": [
    "def map_word():\n",
    "    l=[\"salam\",\"aims\",\"2\",\"5\",\"sudan\",\"khartoum\", 'qwe']\n",
    "    h= []\n",
    "    for i in l :\n",
    "        h.append(len(i))\n",
    "        e=sorted(h)\n",
    "        #print\n",
    "    return e[-1]\n",
    "       \n",
    "        \n",
    "map_word()"
   ]
  },
  {
   "cell_type": "code",
   "execution_count": 57,
   "id": "1aff7e5b-e415-4f6f-ac4e-9b7a0f60cb1e",
   "metadata": {},
   "outputs": [
    {
     "data": {
      "text/plain": [
       "'khartoum'"
      ]
     },
     "execution_count": 57,
     "metadata": {},
     "output_type": "execute_result"
    }
   ],
   "source": [
    " def map_word():\n",
    "    l=[\"salam\",\"aims\",\"2\",\"5\",\"sudan\",\"khartoum\", 'qwe']\n",
    "    h= []\n",
    "    for i in l :\n",
    "        h.append(len(i))\n",
    "        e=sorted(h)\n",
    "        #print(e)\n",
    "    Id = h.index(e[-1])\n",
    "    return l[Id]\n",
    "       \n",
    "        \n",
    "map_word()"
   ]
  },
  {
   "cell_type": "code",
   "execution_count": 64,
   "id": "8b53cf0d-9d77-4b19-a8bf-bcc0b9746202",
   "metadata": {},
   "outputs": [
    {
     "ename": "ModuleNotFoundError",
     "evalue": "No module named 'myprogram'",
     "output_type": "error",
     "traceback": [
      "\u001b[0;31m---------------------------------------------------------------------------\u001b[0m",
      "\u001b[0;31mModuleNotFoundError\u001b[0m                       Traceback (most recent call last)",
      "Cell \u001b[0;32mIn[64], line 1\u001b[0m\n\u001b[0;32m----> 1\u001b[0m \u001b[38;5;28;01mimport\u001b[39;00m \u001b[38;5;21;01mmyprogram\u001b[39;00m\n\u001b[1;32m      3\u001b[0m \u001b[38;5;28mprint\u001b[39m(myprogram\u001b[38;5;241m.\u001b[39mgreet(\u001b[38;5;124m\"\u001b[39m\u001b[38;5;124mAlice\u001b[39m\u001b[38;5;124m\"\u001b[39m))  \u001b[38;5;66;03m# Output: Hello, Alice!\u001b[39;00m\n\u001b[1;32m      4\u001b[0m \u001b[38;5;28mprint\u001b[39m(myprogram\u001b[38;5;241m.\u001b[39madd(\u001b[38;5;241m5\u001b[39m, \u001b[38;5;241m7\u001b[39m))       \u001b[38;5;66;03m# Output: 12\u001b[39;00m\n",
      "\u001b[0;31mModuleNotFoundError\u001b[0m: No module named 'myprogram'"
     ]
    }
   ],
   "source": [
    "import myprogram\n",
    "\n",
    "print(myprogram.greet(\"Alice\"))  # Output: Hello, Alice!\n",
    "print(myprogram.add(5, 7))       # Output: 12\n",
    "\n"
   ]
  },
  {
   "cell_type": "code",
   "execution_count": 62,
   "id": "45ecc97f-4920-47d0-8d47-3bb11871abda",
   "metadata": {},
   "outputs": [],
   "source": [
    "from monpackage import mesfonctions"
   ]
  },
  {
   "cell_type": "code",
   "execution_count": 65,
   "id": "74714d34-8923-486e-bdef-4db91d6fb8d4",
   "metadata": {},
   "outputs": [
    {
     "data": {
      "text/plain": [
       "True"
      ]
     },
     "execution_count": 65,
     "metadata": {},
     "output_type": "execute_result"
    }
   ],
   "source": [
    "mesfonctions.additionner(23,89) == 112  # Returns True"
   ]
  },
  {
   "cell_type": "code",
   "execution_count": 66,
   "id": "571342ed-e53b-41e0-a599-84357add8a92",
   "metadata": {},
   "outputs": [
    {
     "ename": "IndentationError",
     "evalue": "unexpected indent (mesattributs.py, line 1)",
     "output_type": "error",
     "traceback": [
      "Traceback \u001b[0;36m(most recent call last)\u001b[0m:\n",
      "\u001b[0m  File \u001b[1;32m~/.local/lib/python3.9/site-packages/IPython/core/interactiveshell.py:3550\u001b[0m in \u001b[1;35mrun_code\u001b[0m\n    exec(code_obj, self.user_global_ns, self.user_ns)\u001b[0m\n",
      "\u001b[0;36m  Cell \u001b[0;32mIn[66], line 1\u001b[0;36m\n\u001b[0;31m    from monpackage import mesattributs\u001b[0;36m\n",
      "\u001b[0;36m  File \u001b[0;32m~/Downloads/monpackage/mesattributs.py:1\u001b[0;36m\u001b[0m\n\u001b[0;31m    x = 100\u001b[0m\n\u001b[0m    ^\u001b[0m\n\u001b[0;31mIndentationError\u001b[0m\u001b[0;31m:\u001b[0m unexpected indent\n"
     ]
    }
   ],
   "source": [
    "from monpackage import mesattributs"
   ]
  },
  {
   "cell_type": "code",
   "execution_count": null,
   "id": "204797d8-313b-470c-a5eb-b2585e0bcd9b",
   "metadata": {},
   "outputs": [],
   "source": []
  }
 ],
 "metadata": {
  "kernelspec": {
   "display_name": "Python 3 (ipykernel)",
   "language": "python",
   "name": "python3"
  },
  "language_info": {
   "codemirror_mode": {
    "name": "ipython",
    "version": 3
   },
   "file_extension": ".py",
   "mimetype": "text/x-python",
   "name": "python",
   "nbconvert_exporter": "python",
   "pygments_lexer": "ipython3",
   "version": "3.9.2"
  }
 },
 "nbformat": 4,
 "nbformat_minor": 5
}
